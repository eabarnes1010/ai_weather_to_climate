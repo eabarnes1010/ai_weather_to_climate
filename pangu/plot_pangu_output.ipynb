{
 "cells": [
  {
   "cell_type": "code",
   "execution_count": 1,
   "id": "ee825156-8f41-4d4a-b026-1803785c289f",
   "metadata": {},
   "outputs": [],
   "source": [
    "import xarray as xr\n",
    "import numpy as np\n",
    "import pandas as pd\n",
    "\n",
    "import matplotlib.pyplot as plt\n",
    "import cartopy.crs as ccrs\n",
    "import cartopy.feature as cfeature\n",
    "\n",
    "import metpy.calc as mpcalc\n",
    "from metpy.units import units\n",
    "\n",
    "import pickle\n",
    "import os"
   ]
  },
  {
   "cell_type": "markdown",
   "id": "e417d430-0b20-44ae-952e-7aa2c0955a6d",
   "metadata": {},
   "source": [
    "### set some parameters here - the start date/time of your forecast, where your zarr files are, and where you want the images to go."
   ]
  },
  {
   "cell_type": "code",
   "execution_count": 2,
   "id": "1ba17dc8-d37d-4b35-ac87-1ee6563552e1",
   "metadata": {},
   "outputs": [
    {
     "data": {
      "text/plain": [
       "Timestamp('2020-01-01 18:00:00')"
      ]
     },
     "execution_count": 2,
     "metadata": {},
     "output_type": "execute_result"
    }
   ],
   "source": [
    "# ------------------------------------------\n",
    "init_time = \"2020-01-01T18\"\n",
    "init = pd.to_datetime(init_time, format=\"%Y-%m-%dT%H\")\n",
    "\n",
    "zarrdir = \"output_data/\"\n",
    "imagedir = \"images\"\n",
    "# ------------------------------------------\n",
    "\n",
    "init"
   ]
  },
  {
   "cell_type": "markdown",
   "id": "895d0e54-0ab5-457a-a400-4f9a86c99d4c",
   "metadata": {},
   "source": [
    "### nice surface temperature colormap (optional); colormap for absolute vorticity"
   ]
  },
  {
   "cell_type": "code",
   "execution_count": 3,
   "id": "39ea555e-7b66-4423-8bc0-d9e2414cebb4",
   "metadata": {},
   "outputs": [],
   "source": [
    "### temperature from pickle\n",
    "fp = open('sfc_temp_cmap.pkl', 'rb')\n",
    "sfc_temp_cmap = pickle.load(fp)\n",
    "fp.close()\n",
    "\n",
    "### create 500avo colormap\n",
    "colors1 = plt.cm.YlOrRd(np.linspace(0, 1, 36))\n",
    "colors2 = plt.cm.BuPu(np.linspace(0.5, 0.75, 8))\n",
    "colors_500avo = np.vstack((colors2, (1, 1, 1, 1), colors1))"
   ]
  },
  {
   "cell_type": "markdown",
   "id": "f10a961c-7256-4584-8491-2ae976e9e57f",
   "metadata": {},
   "source": [
    "### read in zarrs"
   ]
  },
  {
   "cell_type": "code",
   "execution_count": 4,
   "id": "1a059886-9dde-4d2c-9833-fe35888af2ac",
   "metadata": {},
   "outputs": [],
   "source": [
    "ds_sfc = xr.open_zarr(zarrdir+\"/\"+init.strftime(\"%Y%m%d%H\")+\"/pangu_sfc.zarr\")\n",
    "ds_upper = xr.open_zarr(zarrdir+\"/\"+init.strftime(\"%Y%m%d%H\")+\"/pangu_upper.zarr\")\n"
   ]
  },
  {
   "cell_type": "markdown",
   "id": "d8d18906-6f35-411b-9bf7-287df2931d89",
   "metadata": {},
   "source": [
    "## make some plots!"
   ]
  },
  {
   "cell_type": "markdown",
   "id": "bfe6d17b-03ba-4115-8fa2-a1e1b788de6d",
   "metadata": {},
   "source": [
    "#### map setup"
   ]
  },
  {
   "cell_type": "code",
   "execution_count": 5,
   "id": "ebaa4738-2f50-4737-8303-040927058f69",
   "metadata": {},
   "outputs": [],
   "source": [
    "datacrs = ccrs.PlateCarree()\n",
    "\n",
    "plotcrs = ccrs.LambertConformal(central_longitude=-100, central_latitude=37.5)\n",
    "\n",
    "def plot_background(ax):\n",
    "     ### set up bounding box surrounding specified station\n",
    "    latmin=27.75\n",
    "    latmax=48.25\n",
    "    lonmin=-118.7\n",
    "    lonmax=-83.75\n",
    "\n",
    "    ax.set_extent([lonmin,lonmax,latmin,latmax])\n",
    "    ax.coastlines('50m', edgecolor='black', linewidth=0.9)\n",
    "    ax.add_feature(cfeature.STATES.with_scale('10m'), linewidth=1.2)\n",
    "\n",
    "    return lonmin,lonmax,latmin,latmax"
   ]
  },
  {
   "cell_type": "markdown",
   "id": "61be4673-edec-4937-b8fe-0f42be36c9c1",
   "metadata": {},
   "source": [
    "### 2-m temperature, MSLP, 10-m winds"
   ]
  },
  {
   "cell_type": "code",
   "execution_count": 6,
   "id": "0a591f0f-9620-4a1c-9c73-b1f4d3b6c184",
   "metadata": {
    "scrolled": true
   },
   "outputs": [
    {
     "name": "stdout",
     "output_type": "stream",
     "text": [
      "lead 0, valid 2020-01-01 18:00:00\n",
      "lead 6, valid 2020-01-02 00:00:00\n",
      "lead 12, valid 2020-01-02 06:00:00\n",
      "done!\n"
     ]
    }
   ],
   "source": [
    "#for tt in range(0,2):\n",
    "for tt in range(0,len(ds_sfc.valid_time)):\n",
    "\n",
    "    fig = plt.figure(figsize=(16,8.6))\n",
    "    ax = fig.add_subplot(1,1,1,projection=plotcrs)\n",
    "\n",
    "    lonmin, lonmax, latmin, latmax = plot_background(ax)\n",
    "\n",
    "    vtime = pd.to_datetime(ds_sfc.valid_time[tt].values)\n",
    "    mslp = ds_sfc.mslp.sel(valid_time=vtime, lon=slice(lonmin+360-10,lonmax+370), lat=slice(latmax+5,latmin-5))\n",
    "    u10 = ds_sfc.u10.sel(valid_time=vtime, lon=slice(lonmin+360-10,lonmax+370), lat=slice(latmax+5,latmin-5))\n",
    "    v10 = ds_sfc.v10.sel(valid_time=vtime, lon=slice(lonmin+360-10,lonmax+370), lat=slice(latmax+5,latmin-5))\n",
    "    t2m = ds_sfc.t2m.sel(valid_time=vtime, lon=slice(lonmin+360-10,lonmax+370), lat=slice(latmax+5,latmin-5))\n",
    "\n",
    "    fcst_lead = int((vtime - init) / pd.Timedelta('1 hour'))\n",
    "\n",
    "    print(\"lead \"+str(fcst_lead)+\", valid \"+str(vtime))\n",
    "\n",
    "    clevs = np.arange(-40,110,2)  ### range of temperatures\n",
    "\n",
    "    lon2d, lat2d = np.meshgrid(mslp.lon,mslp.lat)\n",
    "\n",
    "    ### MSLP\n",
    "    cs1 = ax.contour(lon2d, lat2d,\n",
    "                     mslp/100.,\n",
    "                            np.arange(900,1100,4), colors='black',\n",
    "                                 linewidths=2, transform=ccrs.PlateCarree(),\n",
    "                     transform_first=True)\n",
    "    plt.clabel(cs1, fontsize=11, inline=True, inline_spacing=5, fmt='%i',\n",
    "                        rightside_up=True, use_clabeltext=True)\n",
    "\n",
    "    ### 2-m temp\n",
    "    cf = ax.contourf(lon2d, lat2d, 1.8*(t2m-273.15)+32.,\n",
    "                         clevs,\n",
    "                         cmap=sfc_temp_cmap, extend='both',\n",
    "                         transform=ccrs.PlateCarree(), transform_first=True)\n",
    "    cb = plt.colorbar(cf, orientation='horizontal', pad=0.01, aspect=50, shrink=0.6)\n",
    "    cb.set_label('Temperature (F)', fontsize=10)\n",
    "    cb.ax.tick_params(labelsize=10)\n",
    "    cb.ax.locator_params(nbins=20)\n",
    "\n",
    "    ### winds\n",
    "    # Transform Vectors before plotting, then plot wind barbs.\n",
    "    wind_slice = (slice(None, None, 4), slice(None, None, 4))\n",
    "    ax.barbs(u10[wind_slice].lon, u10[wind_slice].lat,\n",
    "             u10[wind_slice].values*1.943844, v10[wind_slice].values*1.943844,   ### to knots\n",
    "             lw=0.9, length=5.5,\n",
    "             transform=ccrs.PlateCarree())\n",
    "\n",
    "    ax.set_title(\"Pangu-weather\\nMSLP, 2-m temperature, 10-m winds\",\n",
    "                  loc=\"left\", horizontalalignment='left', fontsize=10.5, fontweight='bold')\n",
    "    ax.set_title(\"initialized \"+init.strftime(\"%H%M UTC %a %d %b %Y\")+\"\\n\"+str(fcst_lead)+\"-h forecast valid \"+vtime.strftime(\"%H%M UTC %a %d %b %Y\"),\n",
    "                  loc=\"right\", horizontalalignment='right', fontsize=9.5)\n",
    "\n",
    "    outdir = imagedir+\"/\"+init.strftime(\"%Y%m%d%H\")\n",
    "    os.system(\"mkdir -p \"+outdir)\n",
    "\n",
    "    outfile = \"t2m_pangu_\"+init.strftime(\"%Y%m%d%H\")+\"_f\"+str(fcst_lead).zfill(3)+\".png\"\n",
    "\n",
    "    plt.savefig(outdir+\"/\"+outfile,\n",
    "                bbox_inches='tight', transparent=False, facecolor='white', dpi=225)\n",
    "\n",
    "    #plt.show()\n",
    "\n",
    "    plt.close('all')\n",
    "\n",
    "print(\"done!\")"
   ]
  },
  {
   "cell_type": "markdown",
   "id": "b561139d-b47a-4c73-9710-cbb078a88b9f",
   "metadata": {},
   "source": [
    "### 850-hPa temperature, heights, winds"
   ]
  },
  {
   "cell_type": "code",
   "execution_count": 7,
   "id": "fcd99404-431f-4e6f-bf57-f69657aa7062",
   "metadata": {},
   "outputs": [
    {
     "name": "stdout",
     "output_type": "stream",
     "text": [
      "lead 0, valid 2020-01-01 18:00:00\n",
      "lead 6, valid 2020-01-02 00:00:00\n",
      "lead 12, valid 2020-01-02 06:00:00\n"
     ]
    }
   ],
   "source": [
    "for tt in range(0,len(ds_sfc.valid_time)):\n",
    "\n",
    "    lev = 850.  ### in hPa\n",
    "\n",
    "    fig = plt.figure(figsize=(16,8.6))\n",
    "    ax = fig.add_subplot(1,1,1,projection=plotcrs)\n",
    "\n",
    "    lonmin, lonmax, latmin, latmax = plot_background(ax)\n",
    "\n",
    "    vtime = pd.to_datetime(ds_upper.valid_time[tt].values)\n",
    "    z = ds_upper.z.sel(valid_time=vtime, lon=slice(lonmin+360-10,lonmax+370), lat=slice(latmax+5,latmin-5), lev=lev)\n",
    "    u = ds_upper.u.sel(valid_time=vtime, lon=slice(lonmin+360-10,lonmax+370), lat=slice(latmax+5,latmin-5), lev=lev)\n",
    "    v = ds_upper.v.sel(valid_time=vtime, lon=slice(lonmin+360-10,lonmax+370), lat=slice(latmax+5,latmin-5), lev=lev)\n",
    "    t = ds_upper.t.sel(valid_time=vtime, lon=slice(lonmin+360-10,lonmax+370), lat=slice(latmax+5,latmin-5), lev=lev)\n",
    "\n",
    "    fcst_lead = int((vtime - init) / pd.Timedelta('1 hour'))\n",
    "\n",
    "    print(\"lead \"+str(fcst_lead)+\", valid \"+str(vtime))\n",
    "\n",
    "    fig = plt.figure(figsize=(16,8.6))\n",
    "    ax = fig.add_subplot(1,1,1,projection=plotcrs)\n",
    "\n",
    "    ax.set_extent([lonmin,lonmax,latmin,latmax])\n",
    "    ax.coastlines('50m', edgecolor='black', linewidth=0.9)\n",
    "    ax.add_feature(cfeature.STATES.with_scale('10m'), linewidth=1.2)\n",
    "\n",
    "    clevs = np.arange(-40,43,1)  ### range of temperatures\n",
    "\n",
    "    lon2d, lat2d = np.meshgrid(z.lon,z.lat)\n",
    "\n",
    "    ### height\n",
    "    cs1 = ax.contour(lon2d, lat2d,\n",
    "                     z/9.80665,\n",
    "                        np.arange(0, 3001, 30), colors='black',\n",
    "                                 linewidths=2, transform=ccrs.PlateCarree(),\n",
    "                     transform_first=True)\n",
    "    plt.clabel(cs1, fontsize=11, inline=True, inline_spacing=5, fmt='%i',\n",
    "                        rightside_up=True, use_clabeltext=True)\n",
    "\n",
    "    ### temp\n",
    "    cf = ax.contourf(lon2d, lat2d, t-273.15,\n",
    "                         clevs,\n",
    "                         cmap=sfc_temp_cmap, extend='both',\n",
    "                         transform=ccrs.PlateCarree(), transform_first=True)\n",
    "    cb = plt.colorbar(cf, orientation='horizontal', pad=0.01, aspect=50, shrink=0.6)\n",
    "    cb.set_label('Temperature (C)', fontsize=10)\n",
    "    cb.ax.tick_params(labelsize=10)\n",
    "\n",
    "    ### winds\n",
    "    # Transform Vectors before plotting, then plot wind barbs.\n",
    "    wind_slice = (slice(None, None, 4), slice(None, None, 4))\n",
    "    ax.barbs(u[wind_slice].lon, u[wind_slice].lat,\n",
    "             u[wind_slice].values*1.943844, v[wind_slice].values*1.943844,   ### to knots\n",
    "             lw=0.9, length=5.5,\n",
    "             transform=ccrs.PlateCarree())\n",
    "\n",
    "    ax.set_title(\"Pangu-weather\\n850-hPa temperature, heights, and winds\",\n",
    "                  loc=\"left\", horizontalalignment='left', fontsize=10.5, fontweight='bold')\n",
    "    ax.set_title(\"initialized \"+init.strftime(\"%H%M UTC %a %d %b %Y\")+\"\\n\"+str(fcst_lead)+\"-h forecast valid \"+vtime.strftime(\"%H%M UTC %a %d %b %Y\"),\n",
    "                  loc=\"right\", horizontalalignment='right', fontsize=9.5)\n",
    "\n",
    "    outdir = imagedir+\"/\"+init.strftime(\"%Y%m%d%H\")\n",
    "    os.system(\"mkdir -p \"+outdir)\n",
    "\n",
    "    outfile = \"850temp_pangu_\"+init.strftime(\"%Y%m%d%H\")+\"_f\"+str(fcst_lead).zfill(3)+\".png\"\n",
    "\n",
    "    plt.savefig(outdir+\"/\"+outfile,\n",
    "                bbox_inches='tight', transparent=False, facecolor='white', dpi=225)\n",
    "\n",
    "    #plt.show()\n",
    "\n",
    "    plt.close('all')"
   ]
  },
  {
   "cell_type": "markdown",
   "id": "97619f38-3f2f-49d6-85b7-f7eb5f3f19bf",
   "metadata": {},
   "source": [
    "### 500-hPa heights, vorticity, winds"
   ]
  },
  {
   "cell_type": "code",
   "execution_count": 8,
   "id": "b205cd3b-246d-4175-99d6-97c0b0297013",
   "metadata": {},
   "outputs": [
    {
     "name": "stdout",
     "output_type": "stream",
     "text": [
      "lead 0, valid 2020-01-01 18:00:00\n",
      "lead 6, valid 2020-01-02 00:00:00\n",
      "lead 12, valid 2020-01-02 06:00:00\n"
     ]
    }
   ],
   "source": [
    "for tt in range(0,len(ds_sfc.valid_time)):\n",
    "\n",
    "    lev = 500.  ### in hPa\n",
    "\n",
    "    fig = plt.figure(figsize=(16,8.6))\n",
    "    ax = fig.add_subplot(1,1,1,projection=plotcrs)\n",
    "\n",
    "    lonmin, lonmax, latmin, latmax = plot_background(ax)\n",
    "\n",
    "    vtime = pd.to_datetime(ds_upper.valid_time[tt].values)\n",
    "    z = ds_upper.z.sel(valid_time=vtime, lon=slice(lonmin+360-10,lonmax+370), lat=slice(latmax+5,latmin-5), lev=lev)\n",
    "    u = ds_upper.u.sel(valid_time=vtime, lon=slice(lonmin+360-10,lonmax+370), lat=slice(latmax+5,latmin-5), lev=lev)\n",
    "    v = ds_upper.v.sel(valid_time=vtime, lon=slice(lonmin+360-10,lonmax+370), lat=slice(latmax+5,latmin-5), lev=lev)\n",
    "\n",
    "    fcst_lead = int((vtime - init) / pd.Timedelta('1 hour'))\n",
    "\n",
    "    print(\"lead \"+str(fcst_lead)+\", valid \"+str(vtime))\n",
    "\n",
    "    fig = plt.figure(figsize=(16,8.6))\n",
    "    ax = fig.add_subplot(1,1,1,projection=plotcrs)\n",
    "\n",
    "    ax.set_extent([lonmin,lonmax,latmin,latmax])\n",
    "    ax.coastlines('50m', edgecolor='black', linewidth=0.9)\n",
    "    ax.add_feature(cfeature.STATES.with_scale('10m'), linewidth=1.2)\n",
    "\n",
    "    clevs = list(range(-8, 1, 1))+list(range(12, 36, 1))\n",
    "    lon2d, lat2d = np.meshgrid(z.lon,z.lat)\n",
    "\n",
    "    ### height\n",
    "    cs1 = ax.contour(lon2d, lat2d,\n",
    "                     z/9.80665,\n",
    "                        np.arange(4800, 6060, 60), colors='black',\n",
    "                         linewidths=2, transform=ccrs.PlateCarree(),\n",
    "                         transform_first=True)\n",
    "    plt.clabel(cs1, fontsize=11, inline=True, inline_spacing=5, fmt='%i',\n",
    "                        rightside_up=True, use_clabeltext=True)\n",
    "\n",
    "    ### temp\n",
    "    cf = ax.contourf(lon2d, lat2d,\n",
    "                     1e5*mpcalc.absolute_vorticity(u, v),\n",
    "                         clevs,\n",
    "                         colors=colors_500avo, extend='both',\n",
    "                         transform=ccrs.PlateCarree(), transform_first=True)\n",
    "    cb = plt.colorbar(cf, orientation='horizontal', pad=0.01, aspect=50, shrink=0.6)\n",
    "    cb.set_label('absolute vorticity ($*10^5$ s$^{-1}$)', fontsize=10)\n",
    "    cb.ax.tick_params(labelsize=10)\n",
    "\n",
    "    ### winds\n",
    "    # Transform Vectors before plotting, then plot wind barbs.\n",
    "    wind_slice = (slice(None, None, 4), slice(None, None, 4))\n",
    "    ax.barbs(u[wind_slice].lon, u[wind_slice].lat,\n",
    "             u[wind_slice].values*1.943844, v[wind_slice].values*1.943844,   ### to knots\n",
    "             lw=0.9, length=5.5,\n",
    "             transform=ccrs.PlateCarree())\n",
    "\n",
    "    ax.set_title(\"Pangu-weather\\n500-hPa absolute vorticity, heights, and winds\",\n",
    "                  loc=\"left\", horizontalalignment='left', fontsize=10.5, fontweight='bold')\n",
    "    ax.set_title(\"initialized \"+init.strftime(\"%H%M UTC %a %d %b %Y\")+\"\\n\"+str(fcst_lead)+\"-h forecast valid \"+vtime.strftime(\"%H%M UTC %a %d %b %Y\"),\n",
    "                  loc=\"right\", horizontalalignment='right', fontsize=9.5)\n",
    "\n",
    "    outdir = imagedir+\"/\"+init.strftime(\"%Y%m%d%H\")\n",
    "    os.system(\"mkdir -p \"+outdir)\n",
    "\n",
    "    outfile = \"500avo_pangu_\"+init.strftime(\"%Y%m%d%H\")+\"_f\"+str(fcst_lead).zfill(3)+\".png\"\n",
    "\n",
    "    plt.savefig(outdir+\"/\"+outfile,\n",
    "                bbox_inches='tight', transparent=False, facecolor='white', dpi=225)\n",
    "\n",
    "    #plt.show()\n",
    "\n",
    "    plt.close('all')"
   ]
  },
  {
   "cell_type": "code",
   "execution_count": null,
   "id": "60df2392-4003-4898-b4a0-787954d426b5",
   "metadata": {},
   "outputs": [],
   "source": []
  }
 ],
 "metadata": {
  "kernelspec": {
   "display_name": "Python 3 (ipykernel)",
   "language": "python",
   "name": "python3"
  },
  "language_info": {
   "codemirror_mode": {
    "name": "ipython",
    "version": 3
   },
   "file_extension": ".py",
   "mimetype": "text/x-python",
   "name": "python",
   "nbconvert_exporter": "python",
   "pygments_lexer": "ipython3",
   "version": "3.12.4"
  }
 },
 "nbformat": 4,
 "nbformat_minor": 5
}
