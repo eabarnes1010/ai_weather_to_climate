{
 "cells": [
  {
   "cell_type": "markdown",
   "id": "6d123781-2fb8-40e8-b2fd-74c23f2cf7c7",
   "metadata": {},
   "source": [
    "## get ECMWF HRES forecast grids to initialize Pangu-weather"
   ]
  },
  {
   "cell_type": "markdown",
   "id": "7f1271bc-2f8f-487e-b4bc-5d7ad1762b90",
   "metadata": {},
   "source": [
    "[![Latest release](https://badgen.net/github/release/Naereen/Strapdown.js)](https://github.com/eabarnes1010/ai_weather_to_climate_ats780A8/tree/main/lecture_code)\n",
    "[![Open In Colab](https://colab.research.google.com/assets/colab-badge.svg)](https://colab.research.google.com/github/eabarnes1010/ai_weather_to_climate_ats780A8/blob/main/lecture_code/pangu/get_preproc_ecmwf_hres.ipynb)"
   ]
  },
  {
   "cell_type": "code",
   "execution_count": null,
   "id": "a614e1cf-9c5a-4700-82b3-579dadbd029f",
   "metadata": {},
   "outputs": [],
   "source": [
    "!pip install ecmwf-opendata matplotlib xarray cfgrib"
   ]
  },
  {
   "cell_type": "code",
   "execution_count": null,
   "id": "296e5eec-f046-4325-b1c2-d395f6b3ecb7",
   "metadata": {},
   "outputs": [],
   "source": [
    "import xarray as xr\n",
    "import numpy as np\n",
    "import pandas as pd\n",
    "\n",
    "import sys\n",
    "import os\n",
    "\n",
    "from ecmwf.opendata import Client\n",
    "\n",
    "import matplotlib.pyplot as plt\n"
   ]
  },
  {
   "cell_type": "markdown",
   "id": "0ea51b9b-7174-4f63-9f69-0d7b3c5b5a12",
   "metadata": {},
   "source": [
    "### set the time you want to get HRES data for"
   ]
  },
  {
   "cell_type": "code",
   "execution_count": null,
   "id": "ab915042-8794-4e4a-9927-7325009ee91b",
   "metadata": {},
   "outputs": [],
   "source": [
    "ectime = pd.Timestamp(2024,9,16,0)\n",
    "print(ectime)"
   ]
  },
  {
   "cell_type": "markdown",
   "id": "9ef1076c-df1d-4e07-bc7c-beda0c2e8d8b",
   "metadata": {},
   "source": [
    "### shouldn't need to change anything below here\n",
    "### get upper-level variables. Pangu requires these specific variables and vertical levels in this order"
   ]
  },
  {
   "cell_type": "code",
   "execution_count": null,
   "id": "c6dec0f5-6c4b-4e47-8864-358ec4089881",
   "metadata": {},
   "outputs": [],
   "source": [
    "# ### get upper-level vars\n",
    "client = Client(source=\"azure\")  ### source can also be 'azure'\n",
    "\n",
    "client.retrieve(\n",
    "        date=ectime.strftime(\"%Y-%m-%d\"),\n",
    "        time=ectime.strftime(\"%H\"),\n",
    "        step=\"0\",\n",
    "        stream=\"oper\",\n",
    "        levtype=\"pl\",\n",
    "        param=['gh','q','t','u','v'],\n",
    "        levelist = [\n",
    "        '1000','925','850','700','600','500',\n",
    "        '400','300','250','200','150','100','50',\n",
    "    ],\n",
    "        target=\"ecmwf_hres_upper_\"+ectime.strftime(\"%Y%m%d%H\")+\".grib\"\n",
    "    )\n"
   ]
  },
  {
   "cell_type": "markdown",
   "id": "d6589d92-e759-4592-a328-760a2492dc42",
   "metadata": {},
   "source": [
    "### and surface variables"
   ]
  },
  {
   "cell_type": "code",
   "execution_count": null,
   "id": "f04bdb11-603b-465d-9db2-106ec7875f66",
   "metadata": {},
   "outputs": [],
   "source": [
    "# ### and surface vars\n",
    "client = Client(\"azure\")\n",
    "\n",
    "client.retrieve(\n",
    "        date=ectime.strftime(\"%Y-%m-%d\"),\n",
    "        time=ectime.strftime(\"%H\"),\n",
    "        step=\"0\",\n",
    "        stream=\"oper\",\n",
    "        levtype=\"sfc\",\n",
    "        param=['msl','10u','10v','2t'],\n",
    "        target=\"ecmwf_hres_sfc_\"+ectime.strftime(\"%Y%m%d%H\")+\".grib\"\n",
    "    )"
   ]
  },
  {
   "cell_type": "markdown",
   "id": "31710895-4e8e-48e7-b1b0-ac59acf4a232",
   "metadata": {},
   "source": [
    "### now read in the surface variables. because they are on different height levels (10-m wind, 2-m temp), it's easier with cfgrib to read them in separately\n",
    "#### HRES lon order is -180 to 180; needs to be 0 to 360\n",
    "#### change lon order, doing the reverse of this: https://stackoverflow.com/questions/53345442/about-changing-longitude-array-from-0-360-to-180-to-180-with-python-xarray"
   ]
  },
  {
   "cell_type": "code",
   "execution_count": null,
   "id": "a4edd5c8-940b-49b6-abdf-eebb911a67af",
   "metadata": {},
   "outputs": [],
   "source": [
    "ec_10m = xr.open_dataset(\"ecmwf_hres_sfc_\"+ectime.strftime(\"%Y%m%d%H\")+\".grib\", engine='cfgrib',\n",
    "                              indexpath='',\n",
    "                              filter_by_keys={'typeOfLevel': 'heightAboveGround', 'level':10})\n",
    "\n",
    "ec_10m.coords['longitude'] = np.where(ec_10m.coords['longitude'] < 0,\n",
    "                                          ec_10m.coords['longitude']+360,\n",
    "                                          ec_10m.coords['longitude'])\n",
    "ec_10m = ec_10m.sortby(ec_10m.longitude)\n",
    "\n",
    "### need to open separately because of cfgrib\n",
    "ec_t2m = xr.open_dataset(\"ecmwf_hres_sfc_\"+ectime.strftime(\"%Y%m%d%H\")+\".grib\", engine='cfgrib',\n",
    "                              indexpath='',\n",
    "                              filter_by_keys={'typeOfLevel': 'heightAboveGround', 'shortName': '2t'})\n",
    "ec_t2m.coords['longitude'] = np.where(ec_t2m.coords['longitude'] < 0,\n",
    "                                          ec_t2m.coords['longitude']+360,\n",
    "                                          ec_t2m.coords['longitude'])\n",
    "ec_t2m = ec_t2m.sortby(ec_t2m.longitude)\n",
    "\n",
    "ec_msl = xr.open_dataset(\"ecmwf_hres_sfc_\"+ectime.strftime(\"%Y%m%d%H\")+\".grib\", engine='cfgrib',\n",
    "                              indexpath='',\n",
    "                              filter_by_keys={'typeOfLevel': 'meanSea'})\n",
    "ec_msl.coords['longitude'] = np.where(ec_msl.coords['longitude'] < 0,\n",
    "                                          ec_msl.coords['longitude']+360,\n",
    "                                          ec_msl.coords['longitude'])\n",
    "ec_msl = ec_msl.sortby(ec_msl.longitude)"
   ]
  },
  {
   "cell_type": "markdown",
   "id": "26f85441-f90f-4372-85d4-474df9d3462f",
   "metadata": {},
   "source": [
    "#### inspect one"
   ]
  },
  {
   "cell_type": "code",
   "execution_count": null,
   "id": "f48395d2-4713-440a-b25a-d3e03d780fd9",
   "metadata": {},
   "outputs": [],
   "source": [
    "ec_t2m"
   ]
  },
  {
   "cell_type": "markdown",
   "id": "a27ba40d-b346-4ab0-be8f-d3161ce2212e",
   "metadata": {},
   "source": [
    "### pressure-level variables work normally"
   ]
  },
  {
   "cell_type": "code",
   "execution_count": null,
   "id": "25c81197-c6e8-43ee-81a3-c502c87011fa",
   "metadata": {},
   "outputs": [],
   "source": [
    "### upper works normally\n",
    "ec_upper = xr.open_dataset(\"ecmwf_hres_upper_\"+ectime.strftime(\"%Y%m%d%H\")+\".grib\", engine='cfgrib',\n",
    "                              indexpath='')\n",
    "ec_upper.coords['longitude'] = np.where(ec_upper.coords['longitude'] < 0,\n",
    "                                          ec_upper.coords['longitude']+360,\n",
    "                                          ec_upper.coords['longitude'])\n",
    "ec_upper = ec_upper.sortby(ec_upper.longitude)"
   ]
  },
  {
   "cell_type": "markdown",
   "id": "81a1fafa-7b67-4834-b6c6-c08319cde1cc",
   "metadata": {},
   "source": [
    "#### and inspect it"
   ]
  },
  {
   "cell_type": "code",
   "execution_count": null,
   "id": "6092682e-bb0b-478b-a006-25cd6e1c5965",
   "metadata": {},
   "outputs": [],
   "source": [
    "ec_upper"
   ]
  },
  {
   "cell_type": "markdown",
   "id": "c941a012-153c-4767-b28a-0a7f0cfbbd7b",
   "metadata": {},
   "source": [
    "### now stack the variables into the proper shape that Pangu expects and write to numpy arrays"
   ]
  },
  {
   "cell_type": "code",
   "execution_count": null,
   "id": "9e0b0b99-032d-4146-b2ae-9ea4d1114562",
   "metadata": {},
   "outputs": [],
   "source": [
    "sfc_npy = np.stack((ec_msl.msl.to_numpy(),\n",
    "               ec_10m.u10.to_numpy(),\n",
    "               ec_10m.v10.to_numpy(),\n",
    "               ec_t2m.t2m.to_numpy()), axis=0)\n",
    "\n",
    "np.save(\"input_surface_ecmwf_hres_\"+ectime.strftime(\"%Y%m%d%H\")+\".npy\", sfc_npy)\n",
    "\n",
    "upper_npy = np.stack(((ec_upper.gh*9.80665).to_numpy(),  ### hres comes as height, convert to geopotential\n",
    "                      ec_upper.q.to_numpy(),\n",
    "                      ec_upper.t.to_numpy(),\n",
    "                      ec_upper.u.to_numpy(),\n",
    "                      ec_upper.v.to_numpy()), axis=0)\n",
    "\n",
    "np.save(\"input_upper_ecmwf_hres_\"+ectime.strftime(\"%Y%m%d%H\")+\".npy\", upper_npy)"
   ]
  },
  {
   "cell_type": "code",
   "execution_count": null,
   "id": "c1c1b1e8-4911-40bc-805c-ef2c98cfa455",
   "metadata": {},
   "outputs": [],
   "source": []
  }
 ],
 "metadata": {
  "kernelspec": {
   "display_name": "Python 3 (ipykernel)",
   "language": "python",
   "name": "python3"
  },
  "language_info": {
   "codemirror_mode": {
    "name": "ipython",
    "version": 3
   },
   "file_extension": ".py",
   "mimetype": "text/x-python",
   "name": "python",
   "nbconvert_exporter": "python",
   "pygments_lexer": "ipython3",
   "version": "3.12.1"
  }
 },
 "nbformat": 4,
 "nbformat_minor": 5
}
