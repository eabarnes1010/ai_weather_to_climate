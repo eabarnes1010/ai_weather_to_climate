{
 "cells": [
  {
   "cell_type": "markdown",
   "id": "a78cc9ac-0cf4-48de-951b-4960a7048331",
   "metadata": {},
   "source": [
    "## example of how to plot the grib output from ai-models"
   ]
  },
  {
   "cell_type": "code",
   "execution_count": null,
   "id": "b4fd8fd9-4b00-4e7f-b5c3-d432cd5ad475",
   "metadata": {},
   "outputs": [],
   "source": [
    "import xarray as xr\n",
    "import numpy as np\n",
    "import pandas as pd\n",
    "\n",
    "import matplotlib.pyplot as plt\n",
    "import cartopy.crs as ccrs\n",
    "import cartopy.feature as cfeature\n",
    "\n",
    "import metpy.calc as mpcalc\n",
    "from metpy.units import units\n",
    "\n",
    "import pickle\n",
    "import os"
   ]
  },
  {
   "cell_type": "markdown",
   "id": "8987576f-b39f-43c6-b095-1a7195fb0926",
   "metadata": {},
   "source": [
    "### specify model name for plot titles, where your output files are, and where you want the images to go"
   ]
  },
  {
   "cell_type": "code",
   "execution_count": null,
   "id": "e919303d-11db-4245-ac91-64f9ef42f698",
   "metadata": {},
   "outputs": [],
   "source": [
    "run_date = pd.Timestamp(2022,12,20,0)\n",
    "\n",
    "#model_name = \"Fourcastnet-v2\"  ### for plot title\n",
    "#model_abbrev = \"fcnv2\"  ### in filename\n",
    "\n",
    "model_name = \"Pangu-weather\"  \n",
    "model_abbrev = \"pangu\"\n",
    "\n",
    "infiles = \"output/output-\"+model_abbrev+\"-\"+run_date.strftime(\"%Y%m%d\")+\"-*.grib\"  ### path to output files, with wildcard for timestep\n",
    "\n",
    "imagedir = \"images\"  ### where images will be written\n"
   ]
  },
  {
   "cell_type": "markdown",
   "id": "2533d4c9-8fac-410a-91e7-a1ee9b42e0f1",
   "metadata": {},
   "source": [
    "### read in grib files \n"
   ]
  },
  {
   "cell_type": "markdown",
   "id": "8c3e69c4-a359-44f9-886e-843957b87945",
   "metadata": {},
   "source": [
    "#### need to filter different types of vertical levels, as cfgrib doesn't like reading them all in together"
   ]
  },
  {
   "cell_type": "code",
   "execution_count": null,
   "id": "3fc81a31-a449-439c-b358-d0e1aae9ae0b",
   "metadata": {},
   "outputs": [],
   "source": [
    "ds_upper = xr.open_mfdataset(infiles, engine='cfgrib', indexpath='',\n",
    "                        filter_by_keys={'typeOfLevel': 'isobaricInhPa'},\n",
    "                            concat_dim='step', combine='nested').sortby('step')\n",
    "ds_2m = xr.open_mfdataset(infiles, engine='cfgrib', indexpath='',\n",
    "                        filter_by_keys={'typeOfLevel': 'heightAboveGround', 'level':2},\n",
    "                            concat_dim='step', combine='nested').sortby('step')\n",
    "ds_10m = xr.open_mfdataset(infiles, engine='cfgrib', indexpath='',\n",
    "                        filter_by_keys={'typeOfLevel': 'heightAboveGround', 'level':10},\n",
    "                            concat_dim='step', combine='nested').sortby('step')\n",
    "ds_msl = xr.open_mfdataset(infiles, engine='cfgrib', indexpath='',\n",
    "                        filter_by_keys={'typeOfLevel': 'meanSea'},\n",
    "                            concat_dim='step', combine='nested').sortby('step')\n",
    "\n",
    "init = pd.Timestamp(ds_msl.time.values)\n",
    "print(init)"
   ]
  },
  {
   "cell_type": "code",
   "execution_count": null,
   "id": "cea63057-7749-42d2-a66f-5c0dd9e956b4",
   "metadata": {},
   "outputs": [],
   "source": [
    "ds_upper"
   ]
  },
  {
   "cell_type": "markdown",
   "id": "99c0a710-d118-4b3b-a07a-0dd14560356f",
   "metadata": {},
   "source": [
    "### nice surface temperature colormap (optional); colormap for absolute vorticity"
   ]
  },
  {
   "cell_type": "code",
   "execution_count": null,
   "id": "5c4a6e47-b434-405e-84c3-7c3f3f6b49f5",
   "metadata": {},
   "outputs": [],
   "source": [
    "### temperature from pickle\n",
    "fp = open('sfc_temp_cmap.pkl', 'rb')\n",
    "sfc_temp_cmap = pickle.load(fp)\n",
    "fp.close()\n",
    "\n",
    "### create 500avo colormap\n",
    "colors1 = plt.cm.YlOrRd(np.linspace(0, 1, 36))\n",
    "colors2 = plt.cm.BuPu(np.linspace(0.5, 0.75, 8))\n",
    "colors_500avo = np.vstack((colors2, (1, 1, 1, 1), colors1))"
   ]
  },
  {
   "cell_type": "markdown",
   "id": "e4364c6b-1fd8-4d75-a900-8dfb908c3ebb",
   "metadata": {},
   "source": [
    "## make some maps!"
   ]
  },
  {
   "cell_type": "markdown",
   "id": "24e9c977-bccf-4d17-a268-69dd99a28a5e",
   "metadata": {},
   "source": [
    "### setup"
   ]
  },
  {
   "cell_type": "code",
   "execution_count": null,
   "id": "e1206838-1eb8-4df5-b532-defcf41c7e23",
   "metadata": {},
   "outputs": [],
   "source": [
    "datacrs = ccrs.PlateCarree()\n",
    "\n",
    "plotcrs = ccrs.LambertConformal(central_longitude=-100, central_latitude=37.5)\n",
    "\n",
    "def plot_background(ax):\n",
    "     ### set up bounding box surrounding specified station\n",
    "    latmin=27.75\n",
    "    latmax=48.25\n",
    "    lonmin=-118.7\n",
    "    lonmax=-83.75\n",
    "\n",
    "    ax.set_extent([lonmin,lonmax,latmin,latmax])\n",
    "    ax.coastlines('50m', edgecolor='black', linewidth=0.9)\n",
    "    ax.add_feature(cfeature.STATES.with_scale('10m'), linewidth=1.2)\n",
    "\n",
    "    return lonmin,lonmax,latmin,latmax"
   ]
  },
  {
   "cell_type": "markdown",
   "id": "cfd48085-d843-43b2-ac4f-fadde8624f52",
   "metadata": {},
   "source": [
    "### 2-m temperature, MSLP, 10-m winds"
   ]
  },
  {
   "cell_type": "code",
   "execution_count": null,
   "id": "5221d715-bcea-44ca-b8bc-96c1be506a9c",
   "metadata": {
    "scrolled": true
   },
   "outputs": [],
   "source": [
    "#for tt in range(0,2):\n",
    "for tt in range(0,len(ds_2m.step)):\n",
    "\n",
    "    fig = plt.figure(figsize=(16,8.6))\n",
    "    ax = fig.add_subplot(1,1,1,projection=plotcrs)\n",
    "\n",
    "    lonmin, lonmax, latmin, latmax = plot_background(ax)\n",
    "\n",
    "    vtime = pd.to_datetime(ds_10m.valid_time[tt].values)\n",
    "    step = ds_10m.step[tt]\n",
    "    \n",
    "    mslp = ds_msl.msl.sel(step=step, longitude=slice(lonmin+360-10,lonmax+370), latitude=slice(latmax+5,latmin-5))\n",
    "    u10 = ds_10m.u10.sel(step=step, longitude=slice(lonmin+360-10,lonmax+370), latitude=slice(latmax+5,latmin-5))\n",
    "    v10 = ds_10m.v10.sel(step=step, longitude=slice(lonmin+360-10,lonmax+370), latitude=slice(latmax+5,latmin-5))\n",
    "    t2m = ds_2m.t2m.sel(step=step, longitude=slice(lonmin+360-10,lonmax+370), latitude=slice(latmax+5,latmin-5))\n",
    "\n",
    "    fcst_lead = int((vtime - init) / pd.Timedelta('1 hour'))\n",
    "\n",
    "    print(\"lead \"+str(fcst_lead)+\", valid \"+str(vtime))\n",
    "\n",
    "    clevs = np.arange(-40,110,2)  ### range of temperatures\n",
    "\n",
    "    lon2d, lat2d = np.meshgrid(mslp.longitude,mslp.latitude)\n",
    "\n",
    "    ### MSLP\n",
    "    cs1 = ax.contour(lon2d, lat2d,\n",
    "                     mslp/100.,\n",
    "                            np.arange(900,1100,4), colors='black',\n",
    "                                 linewidths=2, transform=ccrs.PlateCarree(),\n",
    "                     transform_first=True)\n",
    "    plt.clabel(cs1, fontsize=11, inline=True, inline_spacing=5, fmt='%i',\n",
    "                        rightside_up=True, use_clabeltext=True)\n",
    "\n",
    "    ### 2-m temp\n",
    "    cf = ax.contourf(lon2d, lat2d, 1.8*(t2m-273.15)+32.,\n",
    "                         clevs,\n",
    "                         cmap=sfc_temp_cmap, extend='both',\n",
    "                         transform=ccrs.PlateCarree(), transform_first=True)\n",
    "    cb = plt.colorbar(cf, orientation='horizontal', pad=0.01, aspect=50, shrink=0.6)\n",
    "    cb.set_label('Temperature (F)', fontsize=10)\n",
    "    cb.ax.tick_params(labelsize=10)\n",
    "    cb.ax.locator_params(nbins=20)\n",
    "\n",
    "    ### winds\n",
    "    # Transform Vectors before plotting, then plot wind barbs.\n",
    "    wind_slice = (slice(None, None, 4), slice(None, None, 4))\n",
    "    ax.barbs(u10[wind_slice].longitude, u10[wind_slice].latitude,\n",
    "             u10[wind_slice].values*1.943844, v10[wind_slice].values*1.943844,   ### to knots\n",
    "             lw=0.9, length=5.5,\n",
    "             transform=ccrs.PlateCarree())\n",
    "\n",
    "    ax.set_title(model_name+\"\\nMSLP, 2-m temperature, 10-m winds\",\n",
    "                  loc=\"left\", horizontalalignment='left', fontsize=10.5, fontweight='bold')\n",
    "    ax.set_title(\"initialized \"+init.strftime(\"%H%M UTC %a %d %b %Y\")+\"\\n\"+str(fcst_lead)+\"-h forecast valid \"+vtime.strftime(\"%H%M UTC %a %d %b %Y\"),\n",
    "                  loc=\"right\", horizontalalignment='right', fontsize=9.5)\n",
    "\n",
    "    outdir = imagedir+\"/\"+init.strftime(\"%Y%m%d%H\")\n",
    "    os.system(\"mkdir -p \"+outdir)\n",
    "\n",
    "    outfile = \"t2m_\"+model_abbrev+\"_\"+init.strftime(\"%Y%m%d%H\")+\"_f\"+str(fcst_lead).zfill(3)+\".png\"\n",
    "\n",
    "    plt.savefig(outdir+\"/\"+outfile,\n",
    "                bbox_inches='tight', transparent=False, facecolor='white', dpi=225)\n",
    "\n",
    "    plt.show()\n",
    "\n",
    "    plt.close('all')\n",
    "\n",
    "print(\"done!\")"
   ]
  },
  {
   "cell_type": "markdown",
   "id": "d8fe5bfe-91f5-4df9-9367-498c29fe42e1",
   "metadata": {},
   "source": [
    "### 850-hPa temperature, heights, winds"
   ]
  },
  {
   "cell_type": "code",
   "execution_count": null,
   "id": "8d5f40cb-32bb-490c-8802-bbcb26602a43",
   "metadata": {
    "scrolled": true
   },
   "outputs": [],
   "source": [
    "lev = 850.  ### in hPa\n",
    "\n",
    "for tt in range(0,len(ds_upper.step)):\n",
    "\n",
    "    fig = plt.figure(figsize=(16,8.6))\n",
    "    ax = fig.add_subplot(1,1,1,projection=plotcrs)\n",
    "\n",
    "    lonmin, lonmax, latmin, latmax = plot_background(ax)\n",
    "\n",
    "    vtime = pd.to_datetime(ds_upper.valid_time[tt].values)\n",
    "    step = ds_upper.step[tt]\n",
    "    \n",
    "    z = ds_upper.z.sel(step=step, longitude=slice(lonmin+360-10,lonmax+370), latitude=slice(latmax+5,latmin-5), isobaricInhPa=lev)\n",
    "    u = ds_upper.u.sel(step=step, longitude=slice(lonmin+360-10,lonmax+370), latitude=slice(latmax+5,latmin-5), isobaricInhPa=lev)\n",
    "    v = ds_upper.v.sel(step=step, longitude=slice(lonmin+360-10,lonmax+370), latitude=slice(latmax+5,latmin-5), isobaricInhPa=lev)\n",
    "    t = ds_upper.t.sel(step=step, longitude=slice(lonmin+360-10,lonmax+370), latitude=slice(latmax+5,latmin-5), isobaricInhPa=lev)\n",
    "\n",
    "    fcst_lead = int((vtime - init) / pd.Timedelta('1 hour'))\n",
    "\n",
    "    print(\"lead \"+str(fcst_lead)+\", valid \"+str(vtime))\n",
    "\n",
    "    clevs = np.arange(-40,43,1)  ### range of temperatures\n",
    "\n",
    "    lon2d, lat2d = np.meshgrid(z.longitude,z.latitude)\n",
    "\n",
    "    ### height\n",
    "    cs1 = ax.contour(lon2d, lat2d,\n",
    "                     z/9.80665,\n",
    "                        np.arange(0, 3001, 30), colors='black',\n",
    "                                 linewidths=2, transform=ccrs.PlateCarree(),\n",
    "                     transform_first=True)\n",
    "    plt.clabel(cs1, fontsize=11, inline=True, inline_spacing=5, fmt='%i',\n",
    "                        rightside_up=True, use_clabeltext=True)\n",
    "\n",
    "    ### temp\n",
    "    cf = ax.contourf(lon2d, lat2d, t-273.15,\n",
    "                         clevs,\n",
    "                         cmap=sfc_temp_cmap, extend='both',\n",
    "                         transform=ccrs.PlateCarree(), transform_first=True)\n",
    "    cb = plt.colorbar(cf, orientation='horizontal', pad=0.01, aspect=50, shrink=0.6)\n",
    "    cb.set_label('Temperature (C)', fontsize=10)\n",
    "    cb.ax.tick_params(labelsize=10)\n",
    "\n",
    "    ### winds\n",
    "    # Transform Vectors before plotting, then plot wind barbs.\n",
    "    wind_slice = (slice(None, None, 4), slice(None, None, 4))\n",
    "    ax.barbs(u[wind_slice].longitude, u[wind_slice].latitude,\n",
    "             u[wind_slice].values*1.943844, v[wind_slice].values*1.943844,   ### to knots\n",
    "             lw=0.9, length=5.5,\n",
    "             transform=ccrs.PlateCarree())\n",
    "\n",
    "    ax.set_title(model_name+\"\\n850-hPa temperature, heights, and winds\",\n",
    "                  loc=\"left\", horizontalalignment='left', fontsize=10.5, fontweight='bold')\n",
    "    ax.set_title(\"initialized \"+init.strftime(\"%H%M UTC %a %d %b %Y\")+\"\\n\"+str(fcst_lead)+\"-h forecast valid \"+vtime.strftime(\"%H%M UTC %a %d %b %Y\"),\n",
    "                  loc=\"right\", horizontalalignment='right', fontsize=9.5)\n",
    "\n",
    "    outdir = imagedir+\"/\"+init.strftime(\"%Y%m%d%H\")\n",
    "    os.system(\"mkdir -p \"+outdir)\n",
    "\n",
    "    outfile = \"850temp_\"+model_abbrev+\"_\"+init.strftime(\"%Y%m%d%H\")+\"_f\"+str(fcst_lead).zfill(3)+\".png\"\n",
    "\n",
    "    plt.savefig(outdir+\"/\"+outfile,\n",
    "                bbox_inches='tight', transparent=False, facecolor='white', dpi=225)\n",
    "\n",
    "    plt.show()\n",
    "\n",
    "    plt.close('all')"
   ]
  },
  {
   "cell_type": "markdown",
   "id": "ec52ad59-9fac-4e24-80ee-3d1ff68e6917",
   "metadata": {},
   "source": [
    "### 500-hPa absolute vorticity, heights, winds"
   ]
  },
  {
   "cell_type": "code",
   "execution_count": null,
   "id": "d6fd5eaa-0285-4f48-89aa-d9d6e29e2610",
   "metadata": {
    "scrolled": true
   },
   "outputs": [],
   "source": [
    "lev = 500.  ### in hPa\n",
    "\n",
    "for tt in range(0,len(ds_upper.step)):\n",
    "\n",
    "    fig = plt.figure(figsize=(16,8.6))\n",
    "    ax = fig.add_subplot(1,1,1,projection=plotcrs)\n",
    "\n",
    "    lonmin, lonmax, latmin, latmax = plot_background(ax)\n",
    "\n",
    "    vtime = pd.to_datetime(ds_upper.valid_time[tt].values)\n",
    "    step = ds_upper.step[tt]\n",
    "    \n",
    "    z = ds_upper.z.sel(step=step, longitude=slice(lonmin+360-10,lonmax+370), latitude=slice(latmax+5,latmin-5), isobaricInhPa=lev)\n",
    "    u = ds_upper.u.sel(step=step, longitude=slice(lonmin+360-10,lonmax+370), latitude=slice(latmax+5,latmin-5), isobaricInhPa=lev)\n",
    "    v = ds_upper.v.sel(step=step, longitude=slice(lonmin+360-10,lonmax+370), latitude=slice(latmax+5,latmin-5), isobaricInhPa=lev)\n",
    "\n",
    "    fcst_lead = int((vtime - init) / pd.Timedelta('1 hour'))\n",
    "\n",
    "    print(\"lead \"+str(fcst_lead)+\", valid \"+str(vtime))\n",
    "\n",
    "    clevs = list(range(-8, 1, 1))+list(range(12, 36, 1))\n",
    "\n",
    "    lon2d, lat2d = np.meshgrid(z.longitude,z.latitude)\n",
    "\n",
    "    ### height\n",
    "    cs1 = ax.contour(lon2d, lat2d,\n",
    "                     z/9.80665,\n",
    "                        np.arange(4800, 6060, 60), colors='black',\n",
    "                         linewidths=2, transform=ccrs.PlateCarree(),\n",
    "                         transform_first=True)\n",
    "    plt.clabel(cs1, fontsize=11, inline=True, inline_spacing=5, fmt='%i',\n",
    "                        rightside_up=True, use_clabeltext=True)\n",
    "\n",
    "    ### temp\n",
    "    cf = ax.contourf(lon2d, lat2d,\n",
    "                     1e5*mpcalc.absolute_vorticity(u, v),\n",
    "                         clevs,\n",
    "                         colors=colors_500avo, extend='both',\n",
    "                         transform=ccrs.PlateCarree(), transform_first=True)\n",
    "    cb = plt.colorbar(cf, orientation='horizontal', pad=0.01, aspect=50, shrink=0.6)\n",
    "    cb.set_label('absolute vorticity ($*10^5$ s$^{-1}$)', fontsize=10)\n",
    "    cb.ax.tick_params(labelsize=10)\n",
    "\n",
    "    ### winds\n",
    "    # Transform Vectors before plotting, then plot wind barbs.\n",
    "    wind_slice = (slice(None, None, 4), slice(None, None, 4))\n",
    "    ax.barbs(u[wind_slice].longitude, u[wind_slice].latitude,\n",
    "             u[wind_slice].values*1.943844, v[wind_slice].values*1.943844,   ### to knots\n",
    "             lw=0.9, length=5.5,\n",
    "             transform=ccrs.PlateCarree())\n",
    "\n",
    "    ax.set_title(model_name+\"\\n500-hPa absolute vorticity, heights, and winds\",\n",
    "                  loc=\"left\", horizontalalignment='left', fontsize=10.5, fontweight='bold')\n",
    "    ax.set_title(\"initialized \"+init.strftime(\"%H%M UTC %a %d %b %Y\")+\"\\n\"+str(fcst_lead)+\"-h forecast valid \"+vtime.strftime(\"%H%M UTC %a %d %b %Y\"),\n",
    "                  loc=\"right\", horizontalalignment='right', fontsize=9.5)\n",
    "\n",
    "    outdir = imagedir+\"/\"+init.strftime(\"%Y%m%d%H\")\n",
    "    os.system(\"mkdir -p \"+outdir)\n",
    "\n",
    "    outfile = \"500avo_\"+model_abbrev+\"_\"+init.strftime(\"%Y%m%d%H\")+\"_f\"+str(fcst_lead).zfill(3)+\".png\"\n",
    "\n",
    "    plt.savefig(outdir+\"/\"+outfile,\n",
    "                bbox_inches='tight', transparent=False, facecolor='white', dpi=225)\n",
    "\n",
    "    plt.show()\n",
    "\n",
    "    plt.close('all')"
   ]
  },
  {
   "cell_type": "code",
   "execution_count": null,
   "id": "298df3c6-725a-4919-9f78-41cda0e63bf1",
   "metadata": {},
   "outputs": [],
   "source": []
  }
 ],
 "metadata": {
  "kernelspec": {
   "display_name": "Python 3 (ipykernel)",
   "language": "python",
   "name": "python3"
  },
  "language_info": {
   "codemirror_mode": {
    "name": "ipython",
    "version": 3
   },
   "file_extension": ".py",
   "mimetype": "text/x-python",
   "name": "python",
   "nbconvert_exporter": "python",
   "pygments_lexer": "ipython3",
   "version": "3.12.1"
  }
 },
 "nbformat": 4,
 "nbformat_minor": 5
}
