{
 "cells": [
  {
   "cell_type": "markdown",
   "id": "ee36ff03-767d-45d5-9a37-5c7f580dec8b",
   "metadata": {},
   "source": [
    "## Demonstration of Herbie for easily getting NWP/AIFS/etc. datasets"
   ]
  },
  {
   "cell_type": "markdown",
   "id": "12141f14-ef96-49d0-b56b-452db200b4bc",
   "metadata": {},
   "source": [
    "[![Latest release](https://badgen.net/github/release/Naereen/Strapdown.js)](https://github.com/eabarnes1010/ai_weather_to_climate_ats780A8/tree/main/lecture_code)\n",
    "[![Open In Colab](https://colab.research.google.com/assets/colab-badge.svg)](https://colab.research.google.com/github/eabarnes1010/ai_weather_to_climate_ats780A8/blob/main/lecture_code/herbie_examples.ipynb)"
   ]
  },
  {
   "cell_type": "code",
   "execution_count": null,
   "id": "221cdd02-bdf8-4bcd-b4aa-4f49a677cbc0",
   "metadata": {},
   "outputs": [],
   "source": [
    "from herbie import Herbie\n",
    "\n",
    "import cartopy.crs as ccrs\n",
    "import cartopy.feature as cfeature\n",
    "import matplotlib.pyplot as plt\n",
    "import numpy as np\n",
    "import pandas as pd\n",
    "\n",
    "### these are plotting functions built in to Herbie, they are optional to use here\n",
    "from herbie import paint\n",
    "from herbie.toolbox import EasyMap, pc"
   ]
  },
  {
   "cell_type": "markdown",
   "id": "199bf734-b141-4375-be7b-cf161bc78b1b",
   "metadata": {},
   "source": [
    "### get AIFS forecast grids"
   ]
  },
  {
   "cell_type": "code",
   "execution_count": null,
   "id": "d369b099-5833-4d91-8799-35d931f7ff11",
   "metadata": {},
   "outputs": [],
   "source": [
    "init = pd.Timestamp(2024,10,15,0)\n",
    "\n",
    "fxx = 72  ### start with th 72-h forecast as an example\n",
    "\n",
    "H = Herbie(init.strftime(\"%Y-%m-%d %H:%M\"), model=\"aifs\", product=\"oper\", fxx=fxx)  "
   ]
  },
  {
   "cell_type": "markdown",
   "id": "364263dc-75cd-4b68-bea4-320da48bb3dd",
   "metadata": {},
   "source": [
    "#### you can look at the full inventory this way, though it's a little cumbersome"
   ]
  },
  {
   "cell_type": "code",
   "execution_count": null,
   "id": "98723ad3-427d-4745-86a6-940ba9bf0a24",
   "metadata": {},
   "outputs": [],
   "source": [
    "H.inventory()"
   ]
  },
  {
   "cell_type": "markdown",
   "id": "11a82ca1-9e74-4482-bf2f-c790c1beb14d",
   "metadata": {},
   "source": [
    "#### better if you have an idea of what level or variable you want to look at:"
   ]
  },
  {
   "cell_type": "code",
   "execution_count": null,
   "id": "a745f45c-e348-4e05-802d-0f3841ee38e6",
   "metadata": {},
   "outputs": [],
   "source": [
    "H.inventory(\":z:500\")"
   ]
  },
  {
   "cell_type": "markdown",
   "id": "6d404243-e927-4ec2-844c-c01d0035a0de",
   "metadata": {},
   "source": [
    "### if you want to make a really quick map, the built-in functions in Herbie make that really easy. This reads the data into xarray, and plots it\n",
    "\n",
    "#### this will temporarily download the needed file to $HOME/data/aifs, and then delete it. If you don't want it deleted, you can add \"remove_grib=False\" when calling xarray below"
   ]
  },
  {
   "cell_type": "code",
   "execution_count": null,
   "id": "61f8d29d-dbd2-4a15-84f9-acc8e181f6b7",
   "metadata": {},
   "outputs": [],
   "source": [
    "ds = H.xarray(\":z:500\")  \n",
    "ds.z.plot(\n",
    "    x=\"longitude\",\n",
    "    y=\"latitude\",\n",
    "    ax=EasyMap().ax,\n",
    "    transform=pc,\n",
    "    cbar_kwargs=dict(orientation=\"horizontal\", shrink=0.9, pad=0.01))\n",
    "\n",
    "ds"
   ]
  },
  {
   "cell_type": "markdown",
   "id": "5cb0c71a-d786-4ad0-a7b2-9e98999b7157",
   "metadata": {},
   "source": [
    "### turns out that the AIFS output is in geopotential rather than geopotential height. we'll fix that and make a plot more traditionally over North America"
   ]
  },
  {
   "cell_type": "code",
   "execution_count": null,
   "id": "a20031df-99eb-4cde-a2a9-f83b33c6f293",
   "metadata": {},
   "outputs": [],
   "source": [
    "datacrs = ccrs.PlateCarree()\n",
    "\n",
    "plotcrs = ccrs.LambertConformal(central_longitude=-100, central_latitude=37.5)\n",
    "\n",
    "def plot_background(ax):\n",
    "     ### set up bounding box surrounding specified station\n",
    "    latmin=27.75\n",
    "    latmax=48.25\n",
    "    lonmin=-118.7\n",
    "    lonmax=-83.75\n",
    "\n",
    "    ax.set_extent([lonmin,lonmax,latmin,latmax])\n",
    "    ax.coastlines('50m', edgecolor='black', linewidth=0.9)\n",
    "    ax.add_feature(cfeature.STATES.with_scale('10m'), linewidth=1.2)\n",
    "\n",
    "    return lonmin,lonmax,latmin,latmax"
   ]
  },
  {
   "cell_type": "code",
   "execution_count": null,
   "id": "e9d5adfb-9d77-46f3-904a-2001fd8e5df3",
   "metadata": {},
   "outputs": [],
   "source": [
    "fig = plt.figure(figsize=(16,8.6))\n",
    "ax = fig.add_subplot(1,1,1,projection=plotcrs)\n",
    "\n",
    "lonmin, lonmax, latmin, latmax = plot_background(ax)\n",
    "\n",
    "vtime = pd.to_datetime(ds.valid_time.values)\n",
    "step = ds.step\n",
    "\n",
    "fcst_lead = int((vtime - init) / pd.Timedelta('1 hour'))\n",
    "\n",
    "print(\"lead \"+str(fcst_lead)+\", valid \"+str(vtime))\n",
    "\n",
    "lon2d, lat2d = np.meshgrid(ds.longitude,ds.latitude)\n",
    "\n",
    "### height\n",
    "cf = ax.contourf(lon2d, lat2d,\n",
    "                 ds.z/9.80665,\n",
    "                    np.arange(4800, 6060, 60), extend='both',\n",
    "                 transform=ccrs.PlateCarree(),\n",
    "                     transform_first=True)\n",
    "cb = plt.colorbar(cf, shrink=0.9, pad=0.01)\n",
    "\n",
    "cs1 = ax.contour(lon2d, lat2d,\n",
    "                 ds.z/9.80665,\n",
    "                    np.arange(4800, 6060, 60), colors='black',\n",
    "                     linewidths=2, transform=ccrs.PlateCarree(),\n",
    "                     transform_first=True)\n",
    "plt.clabel(cs1, fontsize=11, inline=True, inline_spacing=5, fmt='%i',\n",
    "                    rightside_up=True, use_clabeltext=True)\n",
    "\n",
    "ax.set_title(\"ECMWF AIFS\\n500-hPa geopotential height\",\n",
    "              loc=\"left\", horizontalalignment='left', fontsize=10.5, fontweight='bold')\n",
    "ax.set_title(\"initialized \"+init.strftime(\"%H%M UTC %a %d %b %Y\")+\"\\n\"+str(fcst_lead)+\"-h forecast valid \"+vtime.strftime(\"%H%M UTC %a %d %b %Y\"),\n",
    "              loc=\"right\", horizontalalignment='right', fontsize=9.5)\n",
    "\n",
    "plt.show()\n",
    "\n",
    "plt.close('all')"
   ]
  },
  {
   "cell_type": "markdown",
   "id": "14f8834d-0817-457b-a054-2da370c7e012",
   "metadata": {},
   "source": [
    "### now we could also easily get the IFS forecast valid at the same time, and see how they differ"
   ]
  },
  {
   "cell_type": "code",
   "execution_count": null,
   "id": "d9926a9b-b79c-40c6-9c60-260cc4298713",
   "metadata": {},
   "outputs": [],
   "source": [
    "H_ifs = Herbie(init.strftime(\"%Y-%m-%d %H:%M\"), model=\"ifs\", product=\"oper\", fxx=fxx)  "
   ]
  },
  {
   "cell_type": "markdown",
   "id": "f3be62f3-30d5-4051-8219-b7c08826dab0",
   "metadata": {},
   "source": [
    "#### unlike AIFS, the IFS gives geopotential height rather than geopotential"
   ]
  },
  {
   "cell_type": "code",
   "execution_count": null,
   "id": "26e90e87-dfa0-4b42-9f4b-9e0a732c3a6b",
   "metadata": {},
   "outputs": [],
   "source": [
    "ds_ifs = H_ifs.xarray(\":gh:500\")\n",
    "ds_ifs"
   ]
  },
  {
   "cell_type": "markdown",
   "id": "66403c85-d86f-4593-964a-c70f92a61e98",
   "metadata": {},
   "source": [
    "### plot map"
   ]
  },
  {
   "cell_type": "code",
   "execution_count": null,
   "id": "4b3b724a-e4be-49d1-8d22-abf09c22b0da",
   "metadata": {},
   "outputs": [],
   "source": [
    "fig = plt.figure(figsize=(16,8.6))\n",
    "ax = fig.add_subplot(1,1,1,projection=plotcrs)\n",
    "\n",
    "lonmin, lonmax, latmin, latmax = plot_background(ax)\n",
    "\n",
    "vtime = pd.to_datetime(ds_ifs.valid_time.values)\n",
    "step = ds_ifs.step\n",
    "\n",
    "fcst_lead = int((vtime - init) / pd.Timedelta('1 hour'))\n",
    "\n",
    "print(\"lead \"+str(fcst_lead)+\", valid \"+str(vtime))\n",
    "\n",
    "lon2d, lat2d = np.meshgrid(ds_ifs.longitude,ds_ifs.latitude)\n",
    "\n",
    "### height\n",
    "cf = ax.contourf(lon2d, lat2d,\n",
    "                 ds_ifs.gh,\n",
    "                    np.arange(4800, 6060, 60), extend='both',\n",
    "                 transform=ccrs.PlateCarree(),\n",
    "                     transform_first=True)\n",
    "cb = plt.colorbar(cf, shrink=0.9, pad=0.01)\n",
    "\n",
    "cs1 = ax.contour(lon2d, lat2d,\n",
    "                 ds_ifs.gh,\n",
    "                    np.arange(4800, 6060, 60), colors='black',\n",
    "                     linewidths=2, transform=ccrs.PlateCarree(),\n",
    "                     transform_first=True)\n",
    "#plt.clabel(cs1, fontsize=11, inline=True, inline_spacing=5, fmt='%i',\n",
    "#                    rightside_up=True, use_clabeltext=True)\n",
    "\n",
    "ax.set_title(\"ECMWF IFS\\n500-hPa geopotential height\",\n",
    "              loc=\"left\", horizontalalignment='left', fontsize=10.5, fontweight='bold')\n",
    "ax.set_title(\"initialized \"+init.strftime(\"%H%M UTC %a %d %b %Y\")+\"\\n\"+str(fcst_lead)+\"-h forecast valid \"+vtime.strftime(\"%H%M UTC %a %d %b %Y\"),\n",
    "              loc=\"right\", horizontalalignment='right', fontsize=9.5)\n",
    "\n",
    "plt.show()\n",
    "\n",
    "plt.close('all')"
   ]
  },
  {
   "cell_type": "markdown",
   "id": "bfea6e62-0984-4c2c-a66c-f309c02a80fe",
   "metadata": {},
   "source": [
    "### now let's look at the difference"
   ]
  },
  {
   "cell_type": "code",
   "execution_count": null,
   "id": "97612a35-9c29-4e30-a591-0c732f8c4139",
   "metadata": {},
   "outputs": [],
   "source": [
    "z500_diff = ds.z/9.80665 - ds_ifs.gh\n",
    "\n",
    "z500_diff"
   ]
  },
  {
   "cell_type": "code",
   "execution_count": null,
   "id": "342e8b10-596b-43c9-950a-1db073baaa73",
   "metadata": {},
   "outputs": [],
   "source": [
    "fig = plt.figure(figsize=(16,8.6))\n",
    "ax = fig.add_subplot(1,1,1,projection=plotcrs)\n",
    "\n",
    "lonmin, lonmax, latmin, latmax = plot_background(ax)\n",
    "\n",
    "vtime = pd.to_datetime(z500_diff.valid_time.values)\n",
    "step = z500_diff.step\n",
    "\n",
    "fcst_lead = int((vtime - init) / pd.Timedelta('1 hour'))\n",
    "\n",
    "print(\"lead \"+str(fcst_lead)+\", valid \"+str(vtime))\n",
    "\n",
    "lon2d, lat2d = np.meshgrid(z500_diff.longitude,z500_diff.latitude)\n",
    "\n",
    "### height\n",
    "cf = ax.contourf(lon2d, lat2d,\n",
    "                 z500_diff,\n",
    "                    np.arange(-60,66,6), extend='both',\n",
    "                 cmap='bwr',\n",
    "                 transform=ccrs.PlateCarree(),\n",
    "                     transform_first=True)\n",
    "cb = plt.colorbar(cf, shrink=0.9, pad=0.01)\n",
    "\n",
    "ax.set_title(\"ECMWF AIFS minus IFS\\n500-hPa geopotential height\",\n",
    "              loc=\"left\", horizontalalignment='left', fontsize=10.5, fontweight='bold')\n",
    "ax.set_title(\"initialized \"+init.strftime(\"%H%M UTC %a %d %b %Y\")+\"\\n\"+str(fcst_lead)+\"-h forecast valid \"+vtime.strftime(\"%H%M UTC %a %d %b %Y\"),\n",
    "              loc=\"right\", horizontalalignment='right', fontsize=9.5)\n",
    "\n",
    "plt.show()\n",
    "\n",
    "plt.close('all')"
   ]
  },
  {
   "cell_type": "markdown",
   "id": "0fe13c71-1b26-40aa-b926-8e1262407610",
   "metadata": {},
   "source": [
    "### you could get just about any model from Herbie this same way, just check the herbie docs for what the \"products\" are. Ensembles too!\n",
    "\n",
    "#### NOAA and ECWMF models do have slightly different names for their variables as well"
   ]
  },
  {
   "cell_type": "code",
   "execution_count": null,
   "id": "13504d8b-e8c5-452c-9e61-f083c15e030c",
   "metadata": {},
   "outputs": [],
   "source": [
    "H_gfs = Herbie(init.strftime(\"%Y-%m-%d %H:%M\"), model=\"gfs\", product=\"pgrb2.0p25\", fxx=fxx)  \n",
    "ds_gfs = H_gfs.xarray(\":HGT:500\")\n",
    "\n",
    "H_nam = Herbie(init.strftime(\"%Y-%m-%d %H:%M\"), model=\"nam\", product=\"awphys\", fxx=fxx)  \n",
    "ds_nam = H_nam.xarray(\":HGT:500\")\n"
   ]
  },
  {
   "cell_type": "code",
   "execution_count": null,
   "id": "24d059f5-5669-443e-883a-b165f70fa187",
   "metadata": {},
   "outputs": [],
   "source": [
    "fig = plt.figure(figsize=(16,8.6))\n",
    "ax = fig.add_subplot(1,1,1,projection=plotcrs)\n",
    "\n",
    "lonmin, lonmax, latmin, latmax = plot_background(ax)\n",
    "\n",
    "vtime = pd.to_datetime(ds_gfs.valid_time.values)\n",
    "step = ds_gfs.step\n",
    "\n",
    "fcst_lead = int((vtime - init) / pd.Timedelta('1 hour'))\n",
    "\n",
    "print(\"lead \"+str(fcst_lead)+\", valid \"+str(vtime))\n",
    "\n",
    "lon2d, lat2d = np.meshgrid(ds_gfs.longitude,ds_gfs.latitude)\n",
    "\n",
    "### height\n",
    "cf = ax.contourf(lon2d, lat2d,\n",
    "                 ds_gfs.gh,\n",
    "                    np.arange(4800, 6060, 60), extend='both',\n",
    "                 transform=ccrs.PlateCarree(),\n",
    "                     transform_first=True)\n",
    "cb = plt.colorbar(cf, shrink=0.9, pad=0.01)\n",
    "\n",
    "cs1 = ax.contour(lon2d, lat2d,\n",
    "                 ds_gfs.gh,\n",
    "                    np.arange(4800, 6060, 60), colors='black',\n",
    "                     linewidths=2, transform=ccrs.PlateCarree(),\n",
    "                     transform_first=True)\n",
    "plt.clabel(cs1, fontsize=11, inline=True, inline_spacing=5, fmt='%i',\n",
    "                    rightside_up=True, use_clabeltext=True)\n",
    "\n",
    "ax.set_title(\"NCEP GFS\\n500-hPa geopotential height\",\n",
    "              loc=\"left\", horizontalalignment='left', fontsize=10.5, fontweight='bold')\n",
    "ax.set_title(\"initialized \"+init.strftime(\"%H%M UTC %a %d %b %Y\")+\"\\n\"+str(fcst_lead)+\"-h forecast valid \"+vtime.strftime(\"%H%M UTC %a %d %b %Y\"),\n",
    "              loc=\"right\", horizontalalignment='right', fontsize=9.5)\n",
    "\n",
    "plt.show()\n",
    "\n",
    "plt.close('all')"
   ]
  },
  {
   "cell_type": "markdown",
   "id": "91a13b45-ff27-4c33-9b2b-f66bf6cb7817",
   "metadata": {},
   "source": [
    "### now what gets really cool is FastHerbie, which uses multiprocessing to get lots of files at once (https://herbie.readthedocs.io/en/stable/user_guide/tutorial/fast.html) "
   ]
  },
  {
   "cell_type": "code",
   "execution_count": null,
   "id": "95bafe34-dc12-4e39-9564-d7e0951b9e79",
   "metadata": {},
   "outputs": [],
   "source": [
    "from herbie import FastHerbie\n",
    "\n",
    "### get initializations two days apart\n",
    "DATES = pd.date_range(start=\"2024-10-14 00:00\",\n",
    "                      periods=2,freq=\"1d\")\n",
    "\n",
    "# Create a range of forecast lead times\n",
    "fxx = range(0, 132,6)"
   ]
  },
  {
   "cell_type": "code",
   "execution_count": null,
   "id": "24bdad17-0ac7-45d8-aa01-6be0cdcadefe",
   "metadata": {},
   "outputs": [],
   "source": [
    "# Make FastHerbie Object.\n",
    "FH = FastHerbie(DATES, model=\"ifs\", product=\"oper\", fxx=fxx)\n",
    "FH.objects"
   ]
  },
  {
   "cell_type": "code",
   "execution_count": null,
   "id": "d5b12aba-e868-4670-9359-272d83afe4e4",
   "metadata": {},
   "outputs": [],
   "source": [
    "# Get 500-hPa height for all in one dataset!\n",
    "ds = FH.xarray(\":gh:500:\", remove_grib=False)\n"
   ]
  },
  {
   "cell_type": "code",
   "execution_count": null,
   "id": "eccc1669-e7e8-41b3-9485-2fda38dba0de",
   "metadata": {},
   "outputs": [],
   "source": [
    "ds"
   ]
  },
  {
   "cell_type": "code",
   "execution_count": null,
   "id": "940352b3-8b88-4f0d-bf24-1dd3766176ea",
   "metadata": {},
   "outputs": [],
   "source": []
  }
 ],
 "metadata": {
  "kernelspec": {
   "display_name": "Python 3 (ipykernel)",
   "language": "python",
   "name": "python3"
  },
  "language_info": {
   "codemirror_mode": {
    "name": "ipython",
    "version": 3
   },
   "file_extension": ".py",
   "mimetype": "text/x-python",
   "name": "python",
   "nbconvert_exporter": "python",
   "pygments_lexer": "ipython3",
   "version": "3.12.1"
  }
 },
 "nbformat": 4,
 "nbformat_minor": 5
}
